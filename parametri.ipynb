{
 "cells": [
  {
   "cell_type": "code",
   "execution_count": null,
   "metadata": {
    "collapsed": true
   },
   "outputs": [],
   "source": [
    "#from train import EPS_START, EPS_DECAY, EPS_END\n",
    "\n",
    "GAMMA = 0.9\n",
    "EPS_START = 1\n",
    "EPS_END = 0.3\n",
    "EPS_DECAY = 10\n",
    "TARGET_UPDATE = 10\n",
    "\n",
    "rows = 6\n",
    "cols = 7\n",
    "batch = 10_000\n",
    "\n",
    "import matplotlib.pyplot as plt\n",
    "import numpy as np\n",
    "\n",
    "max_gen = 42\n",
    "x = np.linspace(0, max_gen)\n",
    "y = EPS_END + (EPS_START - EPS_END) * np.exp(-1. * x / EPS_DECAY)\n",
    "plt.plot(x, y)\n",
    "print(y[-1])"
   ]
  }
 ],
 "metadata": {
  "kernelspec": {
   "display_name": "Python 3",
   "language": "python",
   "name": "python3"
  },
  "language_info": {
   "codemirror_mode": {
    "name": "ipython",
    "version": 2
   },
   "file_extension": ".py",
   "mimetype": "text/x-python",
   "name": "python",
   "nbconvert_exporter": "python",
   "pygments_lexer": "ipython2",
   "version": "2.7.6"
  }
 },
 "nbformat": 4,
 "nbformat_minor": 0
}